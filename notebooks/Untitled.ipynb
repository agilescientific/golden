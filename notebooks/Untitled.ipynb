{
 "cells": [
  {
   "cell_type": "markdown",
   "metadata": {},
   "source": [
    "# Extract company names from text"
   ]
  },
  {
   "cell_type": "code",
   "execution_count": 33,
   "metadata": {
    "collapsed": true
   },
   "outputs": [],
   "source": [
    "text = \"\"\"Sibanye Gold (JSE:SGL) (NYSE:SBGL), the world's number ten producer of gold, has been informed by a US regulatory body that it needs more time to study the South African company's $2.2 billion acquisition of Stillwater Mining (NYSE:SWC), the only US platinum producer.\n",
    "\n",
    "Sibanye said the investigation, follows the initial review period which concluded at the end of February and will be completed by no later than April 14, 2017, although it is possible the Committee on Foreign Investment in the US (CFIUS) investigation could be concluded sooner.\n",
    "\n",
    "The notification is in line with standard CFIUS procedure for a transaction of this nature according to a company statement:\n",
    "\n",
    "The Transaction remains on schedule for closure during the second calendar quarter of 2017 and, in addition to the CFIUS approval, remains subject to the approval of the Transaction by the holders of a majority of Stillwater’s outstanding shares, the approval of the Transaction by the holders of a majority of Sibanye’s shares present and voting, the approval of the related issuance of shares by Sibanye in the context of a potential rights issue by the holders of at least 75% of the shares present and voting, and other customary conditions.\n",
    "US antitrust authorities gave a nod to the transaction in January while the South African Reserve Bank gave its approval to the deal last month.\n",
    "\n",
    "The deal announced in December gave Stillwater shareholders a healthy 22% premium over the ruling share price, but investors in Sibanye was skeptical, hammering the Johannesburg-based firms stock down 15% on the news. Stillwater shares have more than doubled in value the past year while Sibanye investors are nursing a 42% loss.\n",
    "\n",
    "Together with reducing Sibanye’s dependence on its aging South African mines, the deal will make the company the world's third largest palladium producer and fourth biggest platinum group metals miner. Stillwater is the biggest producer of PGMs outside South Africa and Russia which together control 70-80% of global output.\n",
    "\n",
    "The Johannesburg-listed company, which was spun out of South Africa’s Gold Fields in 2013, spent most of last year shopping for new mines, particularly in the platinum sector.\n",
    "\n",
    "The company first expanded into PGMs, used in jewellery and as catalytic converters in the vehicle industry, in September 2015  buying Aquarius Platinum and three Anglo American Platinum mines.\n",
    "\n",
    "Sibanye on Friday also declared total gold mineral reserves of 28.7Moz, a reduction of 2.3Moz, which after accounting for depletion of 1.6Moz due to mining activities in 2016, equates to a 2% decrease year on year. The company's maiden 4E PGM (platinum, palladium, rhodium and gold) mineral resources came in at 126.5Moz while reserves of 23.2Moz were declared.\n",
    "\n",
    "On Friday, the palladium price was trading down with Nymex contracts exchanging hands for $774 an ounce. Last month palladium hit a 21-month high just shy of $800 and the precious metal is trading some 15% for the better so far in 2017.\n",
    "\n",
    "\"These are some of the lowest cost ounces in the world,\" chief executive Neal Froneman said in a statement, referring to Stillwater's assets.\n",
    "\n",
    "Together with reducing Sibanye’s dependence on its aging South African mines, the deal will make the company the world's third largest palladium producer and fourth biggest platinum group metals miner, Froneman noted.\n",
    "\n",
    "Platinum has  gained nearly 12% year-to-date, exchanging hands for $1,001 an ounce on Wednesday after hitting its highest level since August in February.\n",
    "\n",
    "Little traded rhodium has hit high of $10,000 an ounce a decade ago, but could be picked up mid-2016 for less than $600 an ounce. It has recovered since then, quoted at $825 recently.\"\"\""
   ]
  },
  {
   "cell_type": "code",
   "execution_count": 50,
   "metadata": {
    "collapsed": false
   },
   "outputs": [
    {
     "data": {
      "text/plain": [
       "3698"
      ]
     },
     "execution_count": 50,
     "metadata": {},
     "output_type": "execute_result"
    }
   ],
   "source": [
    "len(text)"
   ]
  },
  {
   "cell_type": "code",
   "execution_count": 46,
   "metadata": {
    "collapsed": true
   },
   "outputs": [],
   "source": [
    "from secrets import mashape as key"
   ]
  },
  {
   "cell_type": "code",
   "execution_count": 54,
   "metadata": {
    "collapsed": false
   },
   "outputs": [],
   "source": [
    "url = \"https://topics-extraction.p.mashape.com/topics-2.0.php\"\n",
    "params = {'txt': text,\n",
    "          'txtf': 'plain',  # could be html\n",
    "          'dm': 's',  # semantic disambiguation includes morphosyntactic disambiguation\n",
    "          'lang': 'en',\n",
    "          'of': 'json',\n",
    "          'rt': 'n',   # relaxed typography / strictness\n",
    "          'sdg': 'l',  # Semantic disambiguation grouping (only if dm=s)\n",
    "          'timeref': '2017-03-03 18:00:00 GMT-04:00',  # For interpreting relative time\n",
    "          'st': 'n',\n",
    "          'tt': 'a',  # topic types\n",
    "          'uw': 'n',  # try to deal with unknown words (eg b/c typos)\n",
    "          'ud': ''    # user dictionary\n",
    "         }"
   ]
  },
  {
   "cell_type": "code",
   "execution_count": 55,
   "metadata": {
    "collapsed": false
   },
   "outputs": [],
   "source": [
    "import requests\n",
    "\n",
    "headers = {\n",
    "    \"X-Mashape-Key\": key,\n",
    "    \"Accept\": \"application/json\"\n",
    "}\n",
    "\n",
    "r = requests.get(url, headers=headers, params=params)"
   ]
  },
  {
   "cell_type": "code",
   "execution_count": 56,
   "metadata": {
    "collapsed": false
   },
   "outputs": [],
   "source": [
    "j = r.json()"
   ]
  },
  {
   "cell_type": "code",
   "execution_count": 57,
   "metadata": {
    "collapsed": false
   },
   "outputs": [
    {
     "data": {
      "text/plain": [
       "dict_keys(['time_expression_list', 'other_expression_list', 'quantity_expression_list', 'entity_list', 'quotation_list', 'concept_list', 'status', 'relation_list', 'money_expression_list'])"
      ]
     },
     "execution_count": 57,
     "metadata": {},
     "output_type": "execute_result"
    }
   ],
   "source": [
    "j.keys()"
   ]
  },
  {
   "cell_type": "code",
   "execution_count": 58,
   "metadata": {
    "collapsed": false
   },
   "outputs": [
    {
     "data": {
      "text/plain": [
       "[{'endp': '235',\n",
       "  'form': \"more time to study the South African company's $2.2 billion acquisition of Stillwater Mining (NYSE:SWC)\",\n",
       "  'inip': '133'},\n",
       " {'actual_time': '2017-02-03',\n",
       "  'endp': '373',\n",
       "  'form': 'February',\n",
       "  'inip': '366',\n",
       "  'normalized_form': '|||||2|||||',\n",
       "  'precision': 'month'},\n",
       " {'actual_time': '2017-04-14',\n",
       "  'endp': '427',\n",
       "  'form': 'April 14, 2017',\n",
       "  'inip': '414',\n",
       "  'normalized_form': '21||||2017|4|14||||',\n",
       "  'precision': 'day'},\n",
       " {'endp': '546', 'form': 'sooner', 'inip': '541'},\n",
       " {'actual_time': '2017-01-03',\n",
       "  'endp': '1286',\n",
       "  'form': 'in January',\n",
       "  'inip': '1277',\n",
       "  'normalized_form': '|||||1|||||',\n",
       "  'precision': 'month'},\n",
       " {'endp': '1364', 'form': 'the deal last month', 'inip': '1346'},\n",
       " {'actual_time': '2017-12-03',\n",
       "  'endp': '1397',\n",
       "  'form': 'in December',\n",
       "  'inip': '1387',\n",
       "  'normalized_form': '|||||12|||||',\n",
       "  'precision': 'month'},\n",
       " {'endp': '1648', 'form': 'the past year', 'inip': '1636'},\n",
       " {'actual_time': '2013-03-03',\n",
       "  'endp': '2113',\n",
       "  'form': '2013',\n",
       "  'inip': '2110',\n",
       "  'normalized_form': '21||||2013||||||',\n",
       "  'precision': 'year'},\n",
       " {'actual_time': '2015-09-03',\n",
       "  'endp': '2327',\n",
       "  'form': 'September 2015',\n",
       "  'inip': '2314',\n",
       "  'normalized_form': '21||||2015|9|||||',\n",
       "  'precision': 'month'},\n",
       " {'actual_time': '2017-03-10',\n",
       "  'endp': '2418',\n",
       "  'form': 'on Friday also',\n",
       "  'inip': '2405',\n",
       "  'normalized_form': '|||f|||||||',\n",
       "  'precision': 'weekday'},\n",
       " {'actual_time': '2016-03-03',\n",
       "  'endp': '2570',\n",
       "  'form': '2016',\n",
       "  'inip': '2567',\n",
       "  'normalized_form': '21||||2016||||||',\n",
       "  'precision': 'year'},\n",
       " {'endp': '2601', 'form': 'to a 2% decrease year', 'inip': '2581'},\n",
       " {'endp': '2609', 'form': 'on year', 'inip': '2603'},\n",
       " {'actual_time': '2017-03-10',\n",
       "  'endp': '2768',\n",
       "  'form': 'On Friday',\n",
       "  'inip': '2760',\n",
       "  'normalized_form': '|||f|||||||',\n",
       "  'precision': 'weekday'},\n",
       " {'endp': '2899',\n",
       "  'form': '21-month',\n",
       "  'inip': '2892',\n",
       "  'normalized_form': '|||||21|||||',\n",
       "  'precision': 'month'},\n",
       " {'endp': '2986', 'form': 'so far', 'inip': '2981'},\n",
       " {'actual_time': '2017-03-03',\n",
       "  'endp': '2994',\n",
       "  'form': '2017',\n",
       "  'inip': '2991',\n",
       "  'normalized_form': '21||||2017||||||',\n",
       "  'precision': 'year'},\n",
       " {'actual_time': '2017-03-08',\n",
       "  'endp': '3454',\n",
       "  'form': 'Wednesday',\n",
       "  'inip': '3446',\n",
       "  'normalized_form': '|||w|||||||',\n",
       "  'precision': 'weekday'},\n",
       " {'actual_time': '2017-08-03',\n",
       "  'endp': '3499',\n",
       "  'form': 'August',\n",
       "  'inip': '3494',\n",
       "  'normalized_form': '|||||8|||||',\n",
       "  'precision': 'month'},\n",
       " {'actual_time': '2017-02-03',\n",
       "  'endp': '3511',\n",
       "  'form': 'in February',\n",
       "  'inip': '3501',\n",
       "  'normalized_form': '|||||2|||||',\n",
       "  'precision': 'month'},\n",
       " {'endp': '3581', 'form': 'a decade ago', 'inip': '3570'},\n",
       " {'endp': '3666', 'form': 'since', 'inip': '3662'},\n",
       " {'endp': '3671', 'form': 'then', 'inip': '3668'}]"
      ]
     },
     "execution_count": 58,
     "metadata": {},
     "output_type": "execute_result"
    }
   ],
   "source": [
    "j['time_expression_list']"
   ]
  },
  {
   "cell_type": "code",
   "execution_count": null,
   "metadata": {
    "collapsed": true
   },
   "outputs": [],
   "source": []
  },
  {
   "cell_type": "code",
   "execution_count": null,
   "metadata": {
    "collapsed": true
   },
   "outputs": [],
   "source": []
  },
  {
   "cell_type": "markdown",
   "metadata": {},
   "source": [
    "# Guess ticker symbols from company name"
   ]
  },
  {
   "cell_type": "code",
   "execution_count": 1,
   "metadata": {
    "collapsed": true
   },
   "outputs": [],
   "source": [
    "import requests"
   ]
  },
  {
   "cell_type": "code",
   "execution_count": 2,
   "metadata": {
    "collapsed": true
   },
   "outputs": [],
   "source": [
    "url = \"http://d.yimg.com/aq/autoc\"\n",
    "\n",
    "q = \"rupert resources\"\n",
    "\n",
    "params = {\n",
    "    \"query\": q,\n",
    "    \"region\": \"IN\",\n",
    "    \"lang\": \"en-US\",\n",
    "    \"callback\": \"YAHOO.Finance.SymbolSuggest.ssCallback\"\n",
    "}"
   ]
  },
  {
   "cell_type": "code",
   "execution_count": 3,
   "metadata": {
    "collapsed": true
   },
   "outputs": [],
   "source": [
    "r = requests.get(url, params=params)"
   ]
  },
  {
   "cell_type": "code",
   "execution_count": 13,
   "metadata": {
    "collapsed": false
   },
   "outputs": [],
   "source": [
    "import re\n",
    "\n",
    "result, = re.findall(r\"\\((.*)\\)\", r.text)"
   ]
  },
  {
   "cell_type": "code",
   "execution_count": 17,
   "metadata": {
    "collapsed": false
   },
   "outputs": [],
   "source": [
    "import json\n",
    "\n",
    "best = json.loads(result)['ResultSet']['Result'][0]"
   ]
  },
  {
   "cell_type": "code",
   "execution_count": 18,
   "metadata": {
    "collapsed": false
   },
   "outputs": [
    {
     "data": {
      "text/plain": [
       "{'exch': 'VAN',\n",
       " 'exchDisp': 'CDNX',\n",
       " 'name': 'Rupert Resources Ltd.',\n",
       " 'symbol': 'RUP.V',\n",
       " 'type': 'S',\n",
       " 'typeDisp': 'Equity'}"
      ]
     },
     "execution_count": 18,
     "metadata": {},
     "output_type": "execute_result"
    }
   ],
   "source": [
    "best"
   ]
  },
  {
   "cell_type": "markdown",
   "metadata": {},
   "source": [
    "# Get quote from ticker"
   ]
  },
  {
   "cell_type": "code",
   "execution_count": 24,
   "metadata": {
    "collapsed": false
   },
   "outputs": [],
   "source": [
    "url = \"https://query.yahooapis.com/v1/public/yql\"\n",
    "\n",
    "symbol = 'RUP.V'\n",
    "\n",
    "params = {\n",
    "    \"q\": 'select * from yahoo.finance.quotes where symbol in (\"{}\")'.format(symbol),\n",
    "    \"format\": \"json\",\n",
    "    \"env\": \"store://datatables.org/alltableswithkeys\"\n",
    "}\n",
    "\n",
    "r = requests.get(url, params=params)"
   ]
  },
  {
   "cell_type": "code",
   "execution_count": 25,
   "metadata": {
    "collapsed": false,
    "scrolled": true
   },
   "outputs": [
    {
     "data": {
      "text/plain": [
       "{'query': {'count': 1,\n",
       "  'created': '2017-03-04T15:38:06Z',\n",
       "  'lang': 'en-US',\n",
       "  'results': {'quote': {'AfterHoursChangeRealtime': None,\n",
       "    'AnnualizedGain': None,\n",
       "    'Ask': '1.33',\n",
       "    'AskRealtime': None,\n",
       "    'AverageDailyVolume': '76224',\n",
       "    'Bid': '1.32',\n",
       "    'BidRealtime': None,\n",
       "    'BookValue': '0.03',\n",
       "    'Change': '+0.02',\n",
       "    'ChangeFromFiftydayMovingAverage': '0.22',\n",
       "    'ChangeFromTwoHundreddayMovingAverage': '0.46',\n",
       "    'ChangeFromYearHigh': '-0.15',\n",
       "    'ChangeFromYearLow': '1.27',\n",
       "    'ChangePercentRealtime': None,\n",
       "    'ChangeRealtime': None,\n",
       "    'Change_PercentChange': '+0.02 - +1.54%',\n",
       "    'ChangeinPercent': '+1.54%',\n",
       "    'Commission': None,\n",
       "    'Currency': 'CAD',\n",
       "    'DaysHigh': '1.35',\n",
       "    'DaysLow': '1.31',\n",
       "    'DaysRange': '1.31 - 1.35',\n",
       "    'DaysRangeRealtime': None,\n",
       "    'DaysValueChange': None,\n",
       "    'DaysValueChangeRealtime': None,\n",
       "    'DividendPayDate': None,\n",
       "    'DividendShare': None,\n",
       "    'DividendYield': None,\n",
       "    'EBITDA': '-1.58M',\n",
       "    'EPSEstimateCurrentYear': None,\n",
       "    'EPSEstimateNextQuarter': '0.00',\n",
       "    'EPSEstimateNextYear': None,\n",
       "    'EarningsShare': '-0.03',\n",
       "    'ErrorIndicationreturnedforsymbolchangedinvalid': None,\n",
       "    'ExDividendDate': None,\n",
       "    'FiftydayMovingAverage': '1.10',\n",
       "    'HighLimit': None,\n",
       "    'HoldingsGain': None,\n",
       "    'HoldingsGainPercent': None,\n",
       "    'HoldingsGainPercentRealtime': None,\n",
       "    'HoldingsGainRealtime': None,\n",
       "    'HoldingsValue': None,\n",
       "    'HoldingsValueRealtime': None,\n",
       "    'LastTradeDate': '3/3/2017',\n",
       "    'LastTradePriceOnly': '1.32',\n",
       "    'LastTradeRealtimeWithTime': None,\n",
       "    'LastTradeTime': '1:12pm',\n",
       "    'LastTradeWithTime': '1:12pm - <b>1.32</b>',\n",
       "    'LowLimit': None,\n",
       "    'MarketCapRealtime': None,\n",
       "    'MarketCapitalization': '131.21M',\n",
       "    'MoreInfo': None,\n",
       "    'Name': 'Rupert Resources Ltd.',\n",
       "    'Notes': None,\n",
       "    'OneyrTargetPrice': None,\n",
       "    'Open': '1.32',\n",
       "    'OrderBookRealtime': None,\n",
       "    'PEGRatio': '0.00',\n",
       "    'PERatio': None,\n",
       "    'PERatioRealtime': None,\n",
       "    'PercebtChangeFromYearHigh': '-10.20%',\n",
       "    'PercentChange': '+1.54%',\n",
       "    'PercentChangeFromFiftydayMovingAverage': '+20.16%',\n",
       "    'PercentChangeFromTwoHundreddayMovingAverage': '+54.31%',\n",
       "    'PercentChangeFromYearLow': '+2300.00%',\n",
       "    'PreviousClose': '1.30',\n",
       "    'PriceBook': '41.94',\n",
       "    'PriceEPSEstimateCurrentYear': None,\n",
       "    'PriceEPSEstimateNextYear': None,\n",
       "    'PricePaid': None,\n",
       "    'PriceSales': None,\n",
       "    'SharesOwned': None,\n",
       "    'ShortRatio': '0.01',\n",
       "    'StockExchange': 'VAN',\n",
       "    'Symbol': 'RUP.V',\n",
       "    'TickerTrend': None,\n",
       "    'TradeDate': None,\n",
       "    'TwoHundreddayMovingAverage': '0.86',\n",
       "    'Volume': '74243',\n",
       "    'YearHigh': '1.47',\n",
       "    'YearLow': '0.05',\n",
       "    'YearRange': '0.05 - 1.47',\n",
       "    'symbol': 'RUP.V'}}}}"
      ]
     },
     "execution_count": 25,
     "metadata": {},
     "output_type": "execute_result"
    }
   ],
   "source": [
    "r.json()"
   ]
  },
  {
   "cell_type": "code",
   "execution_count": 28,
   "metadata": {
    "collapsed": false
   },
   "outputs": [],
   "source": [
    "quote = r.json()['query']['results']['quote']"
   ]
  },
  {
   "cell_type": "code",
   "execution_count": 31,
   "metadata": {
    "collapsed": false
   },
   "outputs": [
    {
     "data": {
      "text/plain": [
       "'CAD'"
      ]
     },
     "execution_count": 31,
     "metadata": {},
     "output_type": "execute_result"
    }
   ],
   "source": [
    "quote['Currency']"
   ]
  },
  {
   "cell_type": "code",
   "execution_count": 29,
   "metadata": {
    "collapsed": false
   },
   "outputs": [
    {
     "data": {
      "text/plain": [
       "'1.32'"
      ]
     },
     "execution_count": 29,
     "metadata": {},
     "output_type": "execute_result"
    }
   ],
   "source": [
    "quote['LastTradePriceOnly']"
   ]
  },
  {
   "cell_type": "code",
   "execution_count": 30,
   "metadata": {
    "collapsed": false
   },
   "outputs": [
    {
     "data": {
      "text/plain": [
       "'131.21M'"
      ]
     },
     "execution_count": 30,
     "metadata": {},
     "output_type": "execute_result"
    }
   ],
   "source": [
    "quote['MarketCapitalization']"
   ]
  },
  {
   "cell_type": "code",
   "execution_count": null,
   "metadata": {
    "collapsed": true
   },
   "outputs": [],
   "source": []
  }
 ],
 "metadata": {
  "kernelspec": {
   "display_name": "Python [python3]",
   "language": "python",
   "name": "Python [python3]"
  },
  "language_info": {
   "codemirror_mode": {
    "name": "ipython",
    "version": 3
   },
   "file_extension": ".py",
   "mimetype": "text/x-python",
   "name": "python",
   "nbconvert_exporter": "python",
   "pygments_lexer": "ipython3",
   "version": "3.5.2"
  }
 },
 "nbformat": 4,
 "nbformat_minor": 0
}
