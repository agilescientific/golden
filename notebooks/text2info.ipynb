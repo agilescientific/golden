{
 "cells": [
  {
   "cell_type": "markdown",
   "metadata": {},
   "source": [
    "# Extract company names from text"
   ]
  },
  {
   "cell_type": "code",
   "execution_count": 1,
   "metadata": {
    "collapsed": true
   },
   "outputs": [],
   "source": [
    "text = \"\"\"Sibanye Gold (JSE:SGL) (NYSE:SBGL), the world's number ten producer of gold, has been informed by a US regulatory body that it needs more time to study the South African company's $2.2 billion acquisition of Stillwater Mining (NYSE:SWC), the only US platinum producer.\n",
    "\n",
    "Sibanye said the investigation, follows the initial review period which concluded at the end of February and will be completed by no later than April 14, 2017, although it is possible the Committee on Foreign Investment in the US (CFIUS) investigation could be concluded sooner.\n",
    "\n",
    "The notification is in line with standard CFIUS procedure for a transaction of this nature according to a company statement:\n",
    "\n",
    "The Transaction remains on schedule for closure during the second calendar quarter of 2017 and, in addition to the CFIUS approval, remains subject to the approval of the Transaction by the holders of a majority of Stillwater’s outstanding shares, the approval of the Transaction by the holders of a majority of Sibanye’s shares present and voting, the approval of the related issuance of shares by Sibanye in the context of a potential rights issue by the holders of at least 75% of the shares present and voting, and other customary conditions.\n",
    "US antitrust authorities gave a nod to the transaction in January while the South African Reserve Bank gave its approval to the deal last month.\n",
    "\n",
    "The deal announced in December gave Stillwater shareholders a healthy 22% premium over the ruling share price, but investors in Sibanye was skeptical, hammering the Johannesburg-based firms stock down 15% on the news. Stillwater shares have more than doubled in value the past year while Sibanye investors are nursing a 42% loss.\n",
    "\n",
    "Together with reducing Sibanye’s dependence on its aging South African mines, the deal will make the company the world's third largest palladium producer and fourth biggest platinum group metals miner. Stillwater is the biggest producer of PGMs outside South Africa and Russia which together control 70-80% of global output.\n",
    "\n",
    "The Johannesburg-listed company, which was spun out of South Africa’s Gold Fields in 2013, spent most of last year shopping for new mines, particularly in the platinum sector.\n",
    "\n",
    "The company first expanded into PGMs, used in jewellery and as catalytic converters in the vehicle industry, in September 2015  buying Aquarius Platinum and three Anglo American Platinum mines.\n",
    "\n",
    "Sibanye on Friday also declared total gold mineral reserves of 28.7Moz, a reduction of 2.3Moz, which after accounting for depletion of 1.6Moz due to mining activities in 2016, equates to a 2% decrease year on year. The company's maiden 4E PGM (platinum, palladium, rhodium and gold) mineral resources came in at 126.5Moz while reserves of 23.2Moz were declared.\n",
    "\n",
    "On Friday, the palladium price was trading down with Nymex contracts exchanging hands for $774 an ounce. Last month palladium hit a 21-month high just shy of $800 and the precious metal is trading some 15% for the better so far in 2017.\n",
    "\n",
    "\"These are some of the lowest cost ounces in the world,\" chief executive Neal Froneman said in a statement, referring to Stillwater's assets.\n",
    "\n",
    "Together with reducing Sibanye’s dependence on its aging South African mines, the deal will make the company the world's third largest palladium producer and fourth biggest platinum group metals miner, Froneman noted.\n",
    "\n",
    "Platinum has  gained nearly 12% year-to-date, exchanging hands for $1,001 an ounce on Wednesday after hitting its highest level since August in February.\n",
    "\n",
    "Little traded rhodium has hit high of $10,000 an ounce a decade ago, but could be picked up mid-2016 for less than $600 an ounce. It has recovered since then, quoted at $825 recently.\n",
    "\"\"\""
   ]
  },
  {
   "cell_type": "code",
   "execution_count": 2,
   "metadata": {
    "collapsed": true
   },
   "outputs": [],
   "source": [
    "l = ['Kachchh', 'Saurashtra', 'Arabian Sea', '(a)', 'Malwa Plateau', 'i 3', 'Deccan Plateau', 'India', '200 Km', 'Bay of Bengal', '']\n",
    "#text = ' and '.join(l)"
   ]
  },
  {
   "cell_type": "code",
   "execution_count": 3,
   "metadata": {
    "collapsed": false
   },
   "outputs": [
    {
     "data": {
      "text/plain": [
       "3699"
      ]
     },
     "execution_count": 3,
     "metadata": {},
     "output_type": "execute_result"
    }
   ],
   "source": [
    "len(text)"
   ]
  },
  {
   "cell_type": "code",
   "execution_count": 4,
   "metadata": {
    "collapsed": true
   },
   "outputs": [],
   "source": [
    "from secrets import mashape as key"
   ]
  },
  {
   "cell_type": "code",
   "execution_count": 5,
   "metadata": {
    "collapsed": false
   },
   "outputs": [],
   "source": [
    "url = \"https://topics-extraction.p.mashape.com/topics-2.0.php\"\n",
    "params = {'txt': text,\n",
    "          'txtf': 'plain',  # could be html\n",
    "          'dm': 's',  # semantic disambiguation includes morphosyntactic disambiguation\n",
    "          'lang': 'en',\n",
    "          'of': 'json',\n",
    "          'rt': 'n',   # relaxed typography / strictness\n",
    "          'sdg': 'l',  # Semantic disambiguation grouping (only if dm=s)\n",
    "          'timeref': '2017-03-03 18:00:00 GMT-04:00',  # For interpreting relative time\n",
    "          'st': 'n',\n",
    "          'tt': 'a',  # topic types\n",
    "          'uw': 'n',  # try to deal with unknown words (eg b/c typos)\n",
    "          'ud': ''    # user dictionary\n",
    "         }"
   ]
  },
  {
   "cell_type": "code",
   "execution_count": 6,
   "metadata": {
    "collapsed": false
   },
   "outputs": [],
   "source": [
    "import requests\n",
    "\n",
    "headers = {\n",
    "    \"X-Mashape-Key\": key,\n",
    "    \"Accept\": \"application/json\"\n",
    "}\n",
    "\n",
    "r = requests.get(url, headers=headers, params=params)"
   ]
  },
  {
   "cell_type": "code",
   "execution_count": 7,
   "metadata": {
    "collapsed": false
   },
   "outputs": [
    {
     "data": {
      "text/plain": [
       "<Response [200]>"
      ]
     },
     "execution_count": 7,
     "metadata": {},
     "output_type": "execute_result"
    }
   ],
   "source": [
    "r"
   ]
  },
  {
   "cell_type": "code",
   "execution_count": 8,
   "metadata": {
    "collapsed": false
   },
   "outputs": [],
   "source": [
    "j = r.json()"
   ]
  },
  {
   "cell_type": "code",
   "execution_count": 9,
   "metadata": {
    "collapsed": false
   },
   "outputs": [
    {
     "data": {
      "text/plain": [
       "dict_keys(['concept_list', 'status', 'money_expression_list', 'time_expression_list', 'relation_list', 'entity_list', 'other_expression_list', 'quantity_expression_list', 'quotation_list'])"
      ]
     },
     "execution_count": 9,
     "metadata": {},
     "output_type": "execute_result"
    }
   ],
   "source": [
    "j.keys()"
   ]
  },
  {
   "cell_type": "code",
   "execution_count": 10,
   "metadata": {
    "collapsed": false
   },
   "outputs": [
    {
     "data": {
      "text/plain": [
       "[{'endp': '3053',\n",
       "  'form': 'These are some of the lowest cost ounces in the world,',\n",
       "  'inip': '2998'}]"
      ]
     },
     "execution_count": 10,
     "metadata": {},
     "output_type": "execute_result"
    }
   ],
   "source": [
    "j['quotation_list']"
   ]
  },
  {
   "cell_type": "code",
   "execution_count": 11,
   "metadata": {
    "collapsed": false,
    "scrolled": true
   },
   "outputs": [
    {
     "data": {
      "text/plain": [
       "[{'amount_form': '2.2 billion',\n",
       "  'endp': '224',\n",
       "  'form': '$2.2 billion acquisition of Stillwater Mining',\n",
       "  'inip': '180',\n",
       "  'numeric_value': '2.2e+09',\n",
       "  'unit': 'acquisition'},\n",
       " {'amount_form': '75%',\n",
       "  'endp': '1168',\n",
       "  'form': 'at least 75% of the shares',\n",
       "  'inip': '1143',\n",
       "  'numeric_value': '0.75',\n",
       "  'unit': '%'},\n",
       " {'amount_form': '22%',\n",
       "  'endp': '1440',\n",
       "  'form': 'a healthy 22%',\n",
       "  'inip': '1428',\n",
       "  'numeric_value': '0.22',\n",
       "  'unit': '%'},\n",
       " {'amount_form': '15%',\n",
       "  'endp': '1583',\n",
       "  'form': '15% on the news',\n",
       "  'inip': '1569',\n",
       "  'numeric_value': '0.15',\n",
       "  'unit': '%'},\n",
       " {'amount_form': '42%',\n",
       "  'endp': '1695',\n",
       "  'form': 'a 42% loss',\n",
       "  'inip': '1686',\n",
       "  'numeric_value': '0.42',\n",
       "  'unit': '%'},\n",
       " {'amount_form': '70-80%',\n",
       "  'endp': '2021',\n",
       "  'form': '70-80% of global output',\n",
       "  'inip': '1999',\n",
       "  'numeric_value': '0.7',\n",
       "  'unit': '%'},\n",
       " {'amount_form': 'three',\n",
       "  'endp': '2393',\n",
       "  'form': 'three Anglo American Platinum mines',\n",
       "  'inip': '2359',\n",
       "  'numeric_value': '3',\n",
       "  'unit': 'mine'},\n",
       " {'amount_form': '28.7',\n",
       "  'endp': '2466',\n",
       "  'form': '28.7Moz',\n",
       "  'inip': '2460',\n",
       "  'numeric_value': '28.7',\n",
       "  'unit': 'Moz'},\n",
       " {'amount_form': '2.3',\n",
       "  'endp': '2489',\n",
       "  'form': '2.3Moz',\n",
       "  'inip': '2484',\n",
       "  'numeric_value': '2.3',\n",
       "  'unit': 'Moz'},\n",
       " {'amount_form': '1.6',\n",
       "  'endp': '2541',\n",
       "  'form': '1.6Moz due',\n",
       "  'inip': '2532',\n",
       "  'numeric_value': '1.6',\n",
       "  'unit': 'due'},\n",
       " {'amount_form': '2%',\n",
       "  'endp': '2601',\n",
       "  'form': 'a 2% decrease year',\n",
       "  'inip': '2584',\n",
       "  'numeric_value': '0.02',\n",
       "  'unit': '%'},\n",
       " {'amount_form': '126.5',\n",
       "  'endp': '2716',\n",
       "  'form': '126.5Moz',\n",
       "  'inip': '2709',\n",
       "  'numeric_value': '126.5',\n",
       "  'unit': 'Moz'},\n",
       " {'amount_form': '23.2',\n",
       "  'endp': '2742',\n",
       "  'form': '23.2Moz',\n",
       "  'inip': '2736',\n",
       "  'numeric_value': '23.2',\n",
       "  'unit': 'Moz'},\n",
       " {'amount_form': '15%',\n",
       "  'endp': '2964',\n",
       "  'form': 'some 15%',\n",
       "  'inip': '2957',\n",
       "  'numeric_value': '0.15',\n",
       "  'unit': '%'},\n",
       " {'amount_form': '12%',\n",
       "  'endp': '3511',\n",
       "  'form': '12% year-to-date, exchanging hands for $1,001 an ounce on Wednesday after hitting its highest level since August in February',\n",
       "  'inip': '3388',\n",
       "  'numeric_value': '0.12',\n",
       "  'unit': '%'}]"
      ]
     },
     "execution_count": 11,
     "metadata": {},
     "output_type": "execute_result"
    }
   ],
   "source": [
    "j['quantity_expression_list']"
   ]
  },
  {
   "cell_type": "code",
   "execution_count": 12,
   "metadata": {
    "collapsed": false
   },
   "outputs": [
    {
     "data": {
      "text/plain": [
       "[{'form': 'Sibanye Gold Limited',\n",
       "  'id': '1bfe7007e9',\n",
       "  'relevance': '100',\n",
       "  'sementity': {'class': 'instance',\n",
       "   'fiction': 'nonfiction',\n",
       "   'id': 'ODENTITY_COMPANY',\n",
       "   'type': 'Top>Organization>Company'},\n",
       "  'semld_list': ['sumo:Business'],\n",
       "  'standard_list': [{'id': 'NYSE', 'value': 'SBGL'}],\n",
       "  'variant_list': [{'endp': '11', 'form': 'Sibanye Gold', 'inip': '0'},\n",
       "   {'endp': '276', 'form': 'Sibanye', 'inip': '270'},\n",
       "   {'endp': '993', 'form': 'Sibanye', 'inip': '987'},\n",
       "   {'endp': '1080', 'form': 'Sibanye', 'inip': '1074'},\n",
       "   {'endp': '1502', 'form': 'Sibanye', 'inip': '1496'},\n",
       "   {'endp': '1662', 'form': 'Sibanye', 'inip': '1656'},\n",
       "   {'endp': '1728', 'form': 'Sibanye', 'inip': '1722'},\n",
       "   {'endp': '2403', 'form': 'Sibanye', 'inip': '2397'},\n",
       "   {'endp': '3170', 'form': 'Sibanye', 'inip': '3164'}]},\n",
       " {'form': 'Stillwater Mining Company',\n",
       "  'id': '68fdc1077a',\n",
       "  'relevance': '66',\n",
       "  'sementity': {'class': 'instance',\n",
       "   'fiction': 'nonfiction',\n",
       "   'id': 'ODENTITY_MINERAL_RESOURCES',\n",
       "   'type': 'Top>Organization>Company>MaterialsCompany>MineralResources'},\n",
       "  'semld_list': ['sumo:Business'],\n",
       "  'semtheme_list': [{'id': 'ODTHEME_METALURGY',\n",
       "    'type': 'Top>Technology>Metalurgy'}],\n",
       "  'standard_list': [{'id': 'NYSE', 'value': 'SWC'}],\n",
       "  'variant_list': [{'endp': '224', 'form': 'Stillwater Mining', 'inip': '208'},\n",
       "   {'endp': '899', 'form': 'Stillwater', 'inip': '890'},\n",
       "   {'endp': '1413', 'form': 'Stillwater', 'inip': '1404'},\n",
       "   {'endp': '1595', 'form': 'Stillwater', 'inip': '1586'},\n",
       "   {'endp': '1910', 'form': 'Stillwater', 'inip': '1901'},\n",
       "   {'endp': '3128', 'form': 'Stillwater', 'inip': '3119'}]},\n",
       " {'form': 'United States',\n",
       "  'id': 'beac1b545b',\n",
       "  'official_form': 'United States of America',\n",
       "  'relevance': '44',\n",
       "  'sementity': {'class': 'instance',\n",
       "   'fiction': 'nonfiction',\n",
       "   'id': 'ODENTITY_COUNTRY',\n",
       "   'type': 'Top>Location>GeoPoliticalEntity>Country'},\n",
       "  'semgeo_list': [{'continent': {'form': 'America', 'id': '33fc13e6dd'}}],\n",
       "  'semld_list': ['od:ZW4ud2lraTpVbml0ZWRfU3RhdGVz',\n",
       "   'http://en.wikipedia.org/wiki/United_States',\n",
       "   'http://es.wikipedia.org/wiki/Estados_Unidos',\n",
       "   'http://fr.wikipedia.org/wiki/États-Unis',\n",
       "   \"http://it.wikipedia.org/wiki/Stati_Uniti_d'America\",\n",
       "   \"http://ca.wikipedia.org/wiki/Estats_Units_d'Amèrica\",\n",
       "   'http://pt.wikipedia.org/wiki/Estados_Unidos',\n",
       "   'http://zh.wikipedia.org/wiki/美国',\n",
       "   'http://ar.wikipedia.org/wiki/الولايات_المتحدة',\n",
       "   'http://gl.wikipedia.org/wiki/Estados_Unidos_de_América',\n",
       "   'http://eu.wikipedia.org/wiki/Ameriketako_Estatu_Batuak',\n",
       "   'http://eurostat.linked-statistics.org/dic/c_ctrl#US',\n",
       "   'http://www4.wiwiss.fu-berlin.de/factbook/resource/United_States',\n",
       "   'http://rdf.freebase.com/ns/m.09c7w0',\n",
       "   'http://sws.geonames.org/6252001/',\n",
       "   'http://data.nytimes.com/N6822221370661567450',\n",
       "   'http://data.nytimes.com/N84789043836346105961',\n",
       "   'http://sw.cyc.com/concept/Mx4rvVikKpwpEbGdrcN5Y29ycA',\n",
       "   'http://yago-knowledge.org/resource/United_States',\n",
       "   'http://umbel.org/umbel/rc/Country',\n",
       "   'http://umbel.org/umbel/rc/Location_Underspecified',\n",
       "   'http://umbel.org/umbel/rc/PopulatedPlace',\n",
       "   '@_EstadosUnidos_',\n",
       "   'sumo:Nation'],\n",
       "  'standard_list': [{'id': 'ISO3166-1-a2', 'value': 'US'},\n",
       "   {'id': 'ISO3166-1-a3', 'value': 'USA'}],\n",
       "  'variant_list': [{'endp': '101', 'form': 'US', 'inip': '100'},\n",
       "   {'endp': '248', 'form': 'US', 'inip': '247'},\n",
       "   {'endp': '498', 'form': 'US', 'inip': '497'},\n",
       "   {'endp': '1223', 'form': 'US', 'inip': '1222'}]},\n",
       " {'form': 'Anglo American Platinum',\n",
       "  'id': '__5735333360394450042',\n",
       "  'relevance': '33',\n",
       "  'sementity': {'class': 'instance', 'confidence': 'unknown', 'type': 'Top'},\n",
       "  'variant_list': [{'endp': '2353', 'form': 'Platinum', 'inip': '2346'},\n",
       "   {'endp': '2387', 'form': 'Anglo American Platinum', 'inip': '2365'},\n",
       "   {'endp': '3367', 'form': 'Platinum', 'inip': '3360'}]},\n",
       " {'form': 'CFIUS',\n",
       "  'id': '__9596888111554042692',\n",
       "  'relevance': '33',\n",
       "  'sementity': {'class': 'instance', 'confidence': 'unknown', 'type': 'Top'},\n",
       "  'variant_list': [{'endp': '505', 'form': 'CFIUS', 'inip': '501'},\n",
       "   {'endp': '596', 'form': 'CFIUS', 'inip': '592'},\n",
       "   {'endp': '795', 'form': 'CFIUS', 'inip': '791'}]},\n",
       " {'form': 'NYSE',\n",
       "  'id': '51d8936d8a',\n",
       "  'official_form': 'New York Stock Exchange',\n",
       "  'relevance': '22',\n",
       "  'sementity': {'class': 'instance',\n",
       "   'fiction': 'nonfiction',\n",
       "   'id': 'ODENTITY_STOCK_MARKET',\n",
       "   'type': 'Top>Organization>StockMarket'},\n",
       "  'semgeo_list': [{'continent': {'form': 'America', 'id': '33fc13e6dd'},\n",
       "    'country': {'form': 'United States',\n",
       "     'id': 'beac1b545b',\n",
       "     'standard_list': [{'id': 'ISO3166-1-a2', 'value': 'US'},\n",
       "      {'id': 'ISO3166-1-a3', 'value': 'USA'}]}}],\n",
       "  'semld_list': ['sumo:StockMarket'],\n",
       "  'semtheme_list': [{'id': 'ODTHEME_ECONOMY',\n",
       "    'type': 'Top>SocialSciences>Economy'}],\n",
       "  'variant_list': [{'endp': '27', 'form': 'NYSE', 'inip': '24'},\n",
       "   {'endp': '230', 'form': 'NYSE', 'inip': '227'}]},\n",
       " {'form': 'Johannesburg',\n",
       "  'id': 'cf9f3fb492',\n",
       "  'relevance': '22',\n",
       "  'sementity': {'class': 'instance',\n",
       "   'fiction': 'nonfiction',\n",
       "   'id': 'ODENTITY_CITY',\n",
       "   'type': 'Top>Location>GeoPoliticalEntity>City'},\n",
       "  'semgeo_list': [{'continent': {'form': 'Africa', 'id': '8c8adb23a1'},\n",
       "    'country': {'form': 'South Africa',\n",
       "     'id': '6e4461ffd3',\n",
       "     'standard_list': [{'id': 'ISO3166-1-a2', 'value': 'ZA'},\n",
       "      {'id': 'ISO3166-1-a3', 'value': 'ZAF'}]}}],\n",
       "  'semld_list': ['od:ZW4ud2lraTpKb2hhbm5lc2J1cmc',\n",
       "   'http://en.wikipedia.org/wiki/Johannesburg',\n",
       "   'http://es.wikipedia.org/wiki/Johannesburgo',\n",
       "   'http://fr.wikipedia.org/wiki/Johannesburg',\n",
       "   'http://it.wikipedia.org/wiki/Johannesburg',\n",
       "   'http://ca.wikipedia.org/wiki/Johannesburg',\n",
       "   'http://pt.wikipedia.org/wiki/Joanesburgo',\n",
       "   'http://zh.wikipedia.org/wiki/约翰内斯堡',\n",
       "   'http://ar.wikipedia.org/wiki/جوهانسبرغ',\n",
       "   'http://gl.wikipedia.org/wiki/Xohanesburgo',\n",
       "   'http://eu.wikipedia.org/wiki/Johannesburgo',\n",
       "   'http://rdf.freebase.com/ns/m.0g284',\n",
       "   'http://sws.geonames.org/993800/',\n",
       "   'http://linkedgeodata.org/triplify/node261833893',\n",
       "   'http://yago-knowledge.org/resource/Johannesburg',\n",
       "   'http://umbel.org/umbel/rc/Location_Underspecified',\n",
       "   'http://umbel.org/umbel/rc/PopulatedPlace',\n",
       "   'http://umbel.org/umbel/rc/Village',\n",
       "   '@jhblive',\n",
       "   'https://www.facebook.com/JohannesburgPride',\n",
       "   'sumo:City'],\n",
       "  'variant_list': [{'endp': '1544', 'form': 'Johannesburg', 'inip': '1533'},\n",
       "   {'endp': '2040', 'form': 'Johannesburg', 'inip': '2029'}]},\n",
       " {'form': 'PGMs',\n",
       "  'id': '__12197761013700119396',\n",
       "  'relevance': '22',\n",
       "  'sementity': {'class': 'instance', 'confidence': 'unknown', 'type': 'Top'},\n",
       "  'variant_list': [{'endp': '1942', 'form': 'PGMs', 'inip': '1939'},\n",
       "   {'endp': '2237', 'form': 'PGMs', 'inip': '2234'}]},\n",
       " {'form': 'South Africa',\n",
       "  'id': '6e4461ffd3',\n",
       "  'official_form': 'Republic of South Africa',\n",
       "  'relevance': '22',\n",
       "  'sementity': {'class': 'instance',\n",
       "   'fiction': 'nonfiction',\n",
       "   'id': 'ODENTITY_COUNTRY',\n",
       "   'type': 'Top>Location>GeoPoliticalEntity>Country'},\n",
       "  'semgeo_list': [{'continent': {'form': 'Africa', 'id': '8c8adb23a1'}}],\n",
       "  'semld_list': ['od:ZW4ud2lraTpTb3V0aF9BZnJpY2E',\n",
       "   'http://en.wikipedia.org/wiki/South_Africa',\n",
       "   'http://es.wikipedia.org/wiki/Sudáfrica',\n",
       "   'http://fr.wikipedia.org/wiki/Afrique_du_Sud',\n",
       "   'http://it.wikipedia.org/wiki/Sudafrica',\n",
       "   'http://ca.wikipedia.org/wiki/Sud-àfrica',\n",
       "   'http://pt.wikipedia.org/wiki/África_do_Sul',\n",
       "   'http://zh.wikipedia.org/wiki/南非',\n",
       "   'http://ar.wikipedia.org/wiki/جنوب_أفريقيا',\n",
       "   'http://gl.wikipedia.org/wiki/Suráfrica',\n",
       "   'http://eu.wikipedia.org/wiki/Hegoafrika',\n",
       "   'http://eurostat.linked-statistics.org/dic/c_ctrl#ZA',\n",
       "   'http://www4.wiwiss.fu-berlin.de/factbook/resource/South_Africa',\n",
       "   'http://rdf.freebase.com/ns/m.0hzlz',\n",
       "   'http://sws.geonames.org/953987/',\n",
       "   'http://linkedgeodata.org/triplify/node424298167',\n",
       "   'http://sw.cyc.com/concept/Mx4rvVkJaJwpEbGdrcN5Y29ycA',\n",
       "   'http://yago-knowledge.org/resource/South_Africa',\n",
       "   'http://umbel.org/umbel/rc/Country',\n",
       "   'http://umbel.org/umbel/rc/Location_Underspecified',\n",
       "   'http://umbel.org/umbel/rc/PopulatedPlace',\n",
       "   '@copaafricadosul',\n",
       "   '@copamundo2010',\n",
       "   '@elmundial2010',\n",
       "   '@EmbajadaEcuZAF',\n",
       "   '@OfficialCSA',\n",
       "   '@SouthAfrica',\n",
       "   '@UKinSouthAfrica',\n",
       "   '@VivaAfricadoSul',\n",
       "   'sumo:Nation'],\n",
       "  'standard_list': [{'id': 'ISO3166-1-a2', 'value': 'ZA'},\n",
       "   {'id': 'ISO3166-1-a3', 'value': 'ZAF'}],\n",
       "  'variant_list': [{'endp': '1963', 'form': 'South Africa', 'inip': '1952'},\n",
       "   {'endp': '2091', 'form': 'South Africa', 'inip': '2080'}]},\n",
       " {'form': 'Reserve Bank',\n",
       "  'id': '__12219712987704890651',\n",
       "  'relevance': '11',\n",
       "  'sementity': {'class': 'instance', 'confidence': 'unknown', 'type': 'Top'},\n",
       "  'variant_list': [{'endp': '1323', 'form': 'Reserve Bank', 'inip': '1312'}]},\n",
       " {'form': 'Froneman',\n",
       "  'id': '__8144928942095856272',\n",
       "  'relevance': '11',\n",
       "  'sementity': {'class': 'instance', 'confidence': 'unknown', 'type': 'Top'},\n",
       "  'variant_list': [{'endp': '3350', 'form': 'Froneman', 'inip': '3343'}]},\n",
       " {'form': 'Neal Froneman',\n",
       "  'id': '__14445541370827916269',\n",
       "  'relevance': '11',\n",
       "  'sementity': {'class': 'instance',\n",
       "   'confidence': 'unknown',\n",
       "   'type': 'Top>Person>FullName'},\n",
       "  'variant_list': [{'endp': '3083',\n",
       "    'form': 'chief executive Neal Froneman',\n",
       "    'inip': '3055'}]},\n",
       " {'form': 'NYMEX',\n",
       "  'id': '59261d693f',\n",
       "  'official_form': 'New York Mercantile Exchange',\n",
       "  'relevance': '11',\n",
       "  'sementity': {'class': 'instance',\n",
       "   'fiction': 'nonfiction',\n",
       "   'id': 'ODENTITY_STOCK_MARKET',\n",
       "   'type': 'Top>Organization>StockMarket'},\n",
       "  'semgeo_list': [{'continent': {'form': 'America', 'id': '33fc13e6dd'},\n",
       "    'country': {'form': 'United States',\n",
       "     'id': 'beac1b545b',\n",
       "     'standard_list': [{'id': 'ISO3166-1-a2', 'value': 'US'},\n",
       "      {'id': 'ISO3166-1-a3', 'value': 'USA'}]}}],\n",
       "  'semld_list': ['sumo:StockMarket'],\n",
       "  'semtheme_list': [{'id': 'ODTHEME_ECONOMY',\n",
       "    'type': 'Top>SocialSciences>Economy'}],\n",
       "  'variant_list': [{'endp': '2817', 'form': 'Nymex', 'inip': '2813'}]},\n",
       " {'form': 'PGM',\n",
       "  'id': '__16962994086939463381',\n",
       "  'relevance': '11',\n",
       "  'sementity': {'class': 'instance', 'confidence': 'unknown', 'type': 'Top'},\n",
       "  'variant_list': [{'endp': '2638', 'form': 'PGM', 'inip': '2636'}]},\n",
       " {'form': 'Gold Fields',\n",
       "  'id': 'b7dd060850',\n",
       "  'relevance': '11',\n",
       "  'sementity': {'class': 'instance',\n",
       "   'fiction': 'nonfiction',\n",
       "   'id': 'ODENTITY_INDUSTRIAL_COMPANY',\n",
       "   'type': 'Top>Organization>Company>IndustrialCompany'},\n",
       "  'semgeo_list': [{'continent': {'form': 'Africa', 'id': '8c8adb23a1'},\n",
       "    'country': {'form': 'South Africa',\n",
       "     'id': '6e4461ffd3',\n",
       "     'standard_list': [{'id': 'ISO3166-1-a2', 'value': 'ZA'},\n",
       "      {'id': 'ISO3166-1-a3', 'value': 'ZAF'}]}}],\n",
       "  'semld_list': ['sumo:Manufacturer'],\n",
       "  'variant_list': [{'endp': '2105', 'form': 'Gold Fields', 'inip': '2095'}]},\n",
       " {'form': 'Russia',\n",
       "  'id': 'd2aceb9067',\n",
       "  'official_form': 'Russian Federation',\n",
       "  'relevance': '11',\n",
       "  'sementity': {'class': 'instance',\n",
       "   'fiction': 'nonfiction',\n",
       "   'id': 'ODENTITY_COUNTRY',\n",
       "   'type': 'Top>Location>GeoPoliticalEntity>Country'},\n",
       "  'semgeo_list': [{'continent': {'form': 'Asia', 'id': 'dc26cb5d38'}},\n",
       "   {'continent': {'form': 'Europe', 'id': '0404ea4d6c'}}],\n",
       "  'semld_list': ['od:ZW4ud2lraTpSdXNzaWE',\n",
       "   'http://en.wikipedia.org/wiki/Russia',\n",
       "   'http://es.wikipedia.org/wiki/Rusia',\n",
       "   'http://fr.wikipedia.org/wiki/Russie',\n",
       "   'http://it.wikipedia.org/wiki/Russia',\n",
       "   'http://ca.wikipedia.org/wiki/Rússia',\n",
       "   'http://pt.wikipedia.org/wiki/Rússia',\n",
       "   'http://zh.wikipedia.org/wiki/俄罗斯',\n",
       "   'http://ar.wikipedia.org/wiki/روسيا',\n",
       "   'http://gl.wikipedia.org/wiki/Rusia',\n",
       "   'http://eu.wikipedia.org/wiki/Errusia',\n",
       "   'http://eurostat.linked-statistics.org/dic/c_ctrl#RU',\n",
       "   'http://www4.wiwiss.fu-berlin.de/factbook/resource/Russia',\n",
       "   'http://rdf.freebase.com/ns/m.06bnz',\n",
       "   'http://sws.geonames.org/2017370/',\n",
       "   'http://data.nytimes.com/66221073798091489281',\n",
       "   'http://sw.cyc.com/concept/Mx4rvViTwZwpEbGdrcN5Y29ycA',\n",
       "   'http://yago-knowledge.org/resource/Russia',\n",
       "   'http://umbel.org/umbel/rc/Country',\n",
       "   'http://umbel.org/umbel/rc/Location_Underspecified',\n",
       "   'http://umbel.org/umbel/rc/PopulatedPlace',\n",
       "   '@french_ruvr',\n",
       "   '@KremlinRussia_E',\n",
       "   '@La_Voz_de_Rusia',\n",
       "   '@rusia_hoy',\n",
       "   'sumo:Nation'],\n",
       "  'standard_list': [{'id': 'ISO3166-1-a2', 'value': 'RU'},\n",
       "   {'id': 'ISO3166-1-a3', 'value': 'RUS'}],\n",
       "  'variant_list': [{'endp': '1974', 'form': 'Russia', 'inip': '1969'}]},\n",
       " {'form': 'Foreign Investment',\n",
       "  'id': '__7670971985199616940',\n",
       "  'relevance': '11',\n",
       "  'sementity': {'class': 'instance', 'confidence': 'unknown', 'type': 'Top'},\n",
       "  'variant_list': [{'endp': '488',\n",
       "    'form': 'Foreign Investment',\n",
       "    'inip': '471'}]},\n",
       " {'form': 'SWC',\n",
       "  'id': '__4323397445044056188',\n",
       "  'relevance': '11',\n",
       "  'sementity': {'class': 'instance', 'confidence': 'unknown', 'type': 'Top'},\n",
       "  'variant_list': [{'endp': '234', 'form': 'SWC', 'inip': '232'}]},\n",
       " {'form': 'SBGL',\n",
       "  'id': '__50326016654326887',\n",
       "  'relevance': '11',\n",
       "  'sementity': {'class': 'instance', 'confidence': 'unknown', 'type': 'Top'},\n",
       "  'variant_list': [{'endp': '32', 'form': 'SBGL', 'inip': '29'}]},\n",
       " {'form': 'SGL',\n",
       "  'id': '__9802584965875378934',\n",
       "  'relevance': '11',\n",
       "  'sementity': {'class': 'instance', 'confidence': 'unknown', 'type': 'Top'},\n",
       "  'variant_list': [{'endp': '20', 'form': 'SGL', 'inip': '18'}]},\n",
       " {'form': 'JSE',\n",
       "  'id': '__1289376369118337779',\n",
       "  'relevance': '11',\n",
       "  'sementity': {'class': 'instance', 'confidence': 'unknown', 'type': 'Top'},\n",
       "  'variant_list': [{'endp': '16', 'form': 'JSE', 'inip': '14'}]}]"
      ]
     },
     "execution_count": 12,
     "metadata": {},
     "output_type": "execute_result"
    }
   ],
   "source": [
    "j['entity_list']"
   ]
  },
  {
   "cell_type": "code",
   "execution_count": 13,
   "metadata": {
    "collapsed": false
   },
   "outputs": [
    {
     "data": {
      "text/plain": [
       "['Neal Froneman']"
      ]
     },
     "execution_count": 13,
     "metadata": {},
     "output_type": "execute_result"
    }
   ],
   "source": [
    "[x['form'] for x in j['entity_list'] if 'Person' in x['sementity']['type']]"
   ]
  },
  {
   "cell_type": "code",
   "execution_count": 14,
   "metadata": {
    "collapsed": false
   },
   "outputs": [
    {
     "data": {
      "text/plain": [
       "['Sibanye Gold Limited', 'Stillwater Mining Company', 'Gold Fields']"
      ]
     },
     "execution_count": 14,
     "metadata": {},
     "output_type": "execute_result"
    }
   ],
   "source": [
    "[x['form'] for x in j['entity_list'] if 'Company' in x['sementity']['type']]"
   ]
  },
  {
   "cell_type": "code",
   "execution_count": 15,
   "metadata": {
    "collapsed": false,
    "scrolled": true
   },
   "outputs": [
    {
     "data": {
      "text/plain": [
       "[{'endp': '235',\n",
       "  'form': \"more time to study the South African company's $2.2 billion acquisition of Stillwater Mining (NYSE:SWC)\",\n",
       "  'inip': '133'},\n",
       " {'actual_time': '2017-02-03',\n",
       "  'endp': '373',\n",
       "  'form': 'February',\n",
       "  'inip': '366',\n",
       "  'normalized_form': '|||||2|||||',\n",
       "  'precision': 'month'},\n",
       " {'actual_time': '2017-04-14',\n",
       "  'endp': '427',\n",
       "  'form': 'April 14, 2017',\n",
       "  'inip': '414',\n",
       "  'normalized_form': '21||||2017|4|14||||',\n",
       "  'precision': 'day'},\n",
       " {'endp': '546', 'form': 'sooner', 'inip': '541'},\n",
       " {'actual_time': '2017-01-03',\n",
       "  'endp': '1286',\n",
       "  'form': 'in January',\n",
       "  'inip': '1277',\n",
       "  'normalized_form': '|||||1|||||',\n",
       "  'precision': 'month'},\n",
       " {'endp': '1364', 'form': 'the deal last month', 'inip': '1346'},\n",
       " {'actual_time': '2017-12-03',\n",
       "  'endp': '1397',\n",
       "  'form': 'in December',\n",
       "  'inip': '1387',\n",
       "  'normalized_form': '|||||12|||||',\n",
       "  'precision': 'month'},\n",
       " {'endp': '1648', 'form': 'the past year', 'inip': '1636'},\n",
       " {'actual_time': '2013-03-03',\n",
       "  'endp': '2113',\n",
       "  'form': '2013',\n",
       "  'inip': '2110',\n",
       "  'normalized_form': '21||||2013||||||',\n",
       "  'precision': 'year'},\n",
       " {'actual_time': '2015-09-03',\n",
       "  'endp': '2327',\n",
       "  'form': 'September 2015',\n",
       "  'inip': '2314',\n",
       "  'normalized_form': '21||||2015|9|||||',\n",
       "  'precision': 'month'},\n",
       " {'actual_time': '2017-03-10',\n",
       "  'endp': '2418',\n",
       "  'form': 'on Friday also',\n",
       "  'inip': '2405',\n",
       "  'normalized_form': '|||f|||||||',\n",
       "  'precision': 'weekday'},\n",
       " {'actual_time': '2016-03-03',\n",
       "  'endp': '2570',\n",
       "  'form': '2016',\n",
       "  'inip': '2567',\n",
       "  'normalized_form': '21||||2016||||||',\n",
       "  'precision': 'year'},\n",
       " {'endp': '2601', 'form': 'to a 2% decrease year', 'inip': '2581'},\n",
       " {'endp': '2609', 'form': 'on year', 'inip': '2603'},\n",
       " {'actual_time': '2017-03-10',\n",
       "  'endp': '2768',\n",
       "  'form': 'On Friday',\n",
       "  'inip': '2760',\n",
       "  'normalized_form': '|||f|||||||',\n",
       "  'precision': 'weekday'},\n",
       " {'endp': '2899',\n",
       "  'form': '21-month',\n",
       "  'inip': '2892',\n",
       "  'normalized_form': '|||||21|||||',\n",
       "  'precision': 'month'},\n",
       " {'endp': '2986', 'form': 'so far', 'inip': '2981'},\n",
       " {'actual_time': '2017-03-03',\n",
       "  'endp': '2994',\n",
       "  'form': '2017',\n",
       "  'inip': '2991',\n",
       "  'normalized_form': '21||||2017||||||',\n",
       "  'precision': 'year'},\n",
       " {'actual_time': '2017-03-08',\n",
       "  'endp': '3454',\n",
       "  'form': 'Wednesday',\n",
       "  'inip': '3446',\n",
       "  'normalized_form': '|||w|||||||',\n",
       "  'precision': 'weekday'},\n",
       " {'actual_time': '2017-08-03',\n",
       "  'endp': '3499',\n",
       "  'form': 'August',\n",
       "  'inip': '3494',\n",
       "  'normalized_form': '|||||8|||||',\n",
       "  'precision': 'month'},\n",
       " {'actual_time': '2017-02-03',\n",
       "  'endp': '3511',\n",
       "  'form': 'in February',\n",
       "  'inip': '3501',\n",
       "  'normalized_form': '|||||2|||||',\n",
       "  'precision': 'month'},\n",
       " {'endp': '3581', 'form': 'a decade ago', 'inip': '3570'},\n",
       " {'endp': '3666', 'form': 'since', 'inip': '3662'},\n",
       " {'endp': '3671', 'form': 'then', 'inip': '3668'}]"
      ]
     },
     "execution_count": 15,
     "metadata": {},
     "output_type": "execute_result"
    }
   ],
   "source": [
    "j['time_expression_list']"
   ]
  },
  {
   "cell_type": "code",
   "execution_count": 16,
   "metadata": {
    "collapsed": false
   },
   "outputs": [
    {
     "data": {
      "text/plain": [
       "['United States', 'Johannesburg', 'South Africa', 'Russia']"
      ]
     },
     "execution_count": 16,
     "metadata": {},
     "output_type": "execute_result"
    }
   ],
   "source": [
    "[x['form'] for x in j['entity_list'] if 'Location' in x['sementity']['type']]"
   ]
  },
  {
   "cell_type": "markdown",
   "metadata": {},
   "source": [
    "## Meaning Cloud directly"
   ]
  },
  {
   "cell_type": "code",
   "execution_count": 17,
   "metadata": {
    "collapsed": false
   },
   "outputs": [],
   "source": [
    "from secrets import meaningcloud"
   ]
  },
  {
   "cell_type": "code",
   "execution_count": 18,
   "metadata": {
    "collapsed": false
   },
   "outputs": [],
   "source": [
    "def analyse_text(t, txtf='plain'):\n",
    "    url = \"http://api.meaningcloud.com/topics-2.0\"\n",
    "\n",
    "    data = {\n",
    "        'key': meaningcloud,\n",
    "        'lang': 'en',\n",
    "        'txt': text,\n",
    "        'txtf': txtf,\n",
    "        'tt': 'a'\n",
    "        }\n",
    "\n",
    "    headers = {'content-type': 'application/x-www-form-urlencoded'}\n",
    "\n",
    "    r = requests.request(\"POST\", url, data=data, headers=headers)\n",
    "\n",
    "    return r.json()"
   ]
  },
  {
   "cell_type": "code",
   "execution_count": 19,
   "metadata": {
    "collapsed": false
   },
   "outputs": [],
   "source": [
    "def get_people(j):\n",
    "    return [x['form'] for x in j['entity_list'] if 'Person' in x['sementity']['type']]"
   ]
  },
  {
   "cell_type": "code",
   "execution_count": 20,
   "metadata": {
    "collapsed": true
   },
   "outputs": [],
   "source": [
    "def get_companies(j):\n",
    "    return [x['form'] for x in j['entity_list'] if 'Company' in x['sementity']['type']]"
   ]
  },
  {
   "cell_type": "code",
   "execution_count": 21,
   "metadata": {
    "collapsed": true
   },
   "outputs": [],
   "source": [
    "def get_places(j):\n",
    "    return [x['form'] for x in j['entity_list'] if 'Location' in x['sementity']['type']]"
   ]
  },
  {
   "cell_type": "code",
   "execution_count": 22,
   "metadata": {
    "collapsed": true
   },
   "outputs": [],
   "source": [
    "def get_elements(j):\n",
    "    return [x['form'] for x in j['concept_list'] if 'Element' in x['sementity']['type']]"
   ]
  },
  {
   "cell_type": "code",
   "execution_count": 23,
   "metadata": {
    "collapsed": false
   },
   "outputs": [
    {
     "data": {
      "text/plain": [
       "['Neal Froneman']"
      ]
     },
     "execution_count": 23,
     "metadata": {},
     "output_type": "execute_result"
    }
   ],
   "source": [
    "get_people(analyse_text(text))"
   ]
  },
  {
   "cell_type": "code",
   "execution_count": 45,
   "metadata": {
    "collapsed": false
   },
   "outputs": [
    {
     "data": {
      "text/plain": [
       "[('Sibanye Gold Limited', 'SBGL'),\n",
       " ('Stillwater Mining Company', 'SWC'),\n",
       " ('Gold Fields Limited', 'GFI')]"
      ]
     },
     "execution_count": 45,
     "metadata": {},
     "output_type": "execute_result"
    }
   ],
   "source": [
    "[get_symbol(x) for x in get_companies(analyse_text(text))]"
   ]
  },
  {
   "cell_type": "code",
   "execution_count": null,
   "metadata": {
    "collapsed": false
   },
   "outputs": [],
   "source": [
    "get_places(analyse_text(text))"
   ]
  },
  {
   "cell_type": "code",
   "execution_count": null,
   "metadata": {
    "collapsed": false
   },
   "outputs": [],
   "source": [
    "get_elements(analyse_text(text))"
   ]
  },
  {
   "cell_type": "markdown",
   "metadata": {},
   "source": [
    "## Large HTML string"
   ]
  },
  {
   "cell_type": "code",
   "execution_count": 25,
   "metadata": {
    "collapsed": true
   },
   "outputs": [],
   "source": [
    "with open('../data/example.html', 'r') as f:\n",
    "    html = f.read()"
   ]
  },
  {
   "cell_type": "code",
   "execution_count": 26,
   "metadata": {
    "collapsed": false
   },
   "outputs": [
    {
     "data": {
      "text/plain": [
       "['platinum', 'gold', 'rhodium']"
      ]
     },
     "execution_count": 26,
     "metadata": {},
     "output_type": "execute_result"
    }
   ],
   "source": [
    "get_elements(analyse_text(html, 'html'))"
   ]
  },
  {
   "cell_type": "markdown",
   "metadata": {},
   "source": [
    "## Functions"
   ]
  },
  {
   "cell_type": "code",
   "execution_count": 27,
   "metadata": {
    "collapsed": true
   },
   "outputs": [],
   "source": [
    "def analyse_text_mashape(t):\n",
    "    url = \"https://topics-extraction.p.mashape.com/topics-2.0.php\"\n",
    "    params = {'txt': text,\n",
    "              'txtf': 'plain',  # could be html\n",
    "              'dm': 's',  # semantic disambiguation includes morphosyntactic disambiguation\n",
    "              'lang': 'en',\n",
    "              'of': 'json',\n",
    "              'rt': 'n',   # relaxed typography / strictness\n",
    "              'sdg': 'l',  # Semantic disambiguation grouping (only if dm=s)\n",
    "              'timeref': '2017-03-03 18:00:00 GMT-04:00',  # For interpreting relative time\n",
    "              'st': 'n',\n",
    "              'tt': 'a',  # topic types\n",
    "              'uw': 'n',  # try to deal with unknown words (eg b/c typos)\n",
    "              'ud': ''    # user dictionary\n",
    "             }\n",
    "    \n",
    "    headers = {\n",
    "        \"X-Mashape-Key\": key,\n",
    "        \"Accept\": \"application/json\"\n",
    "    }\n",
    "\n",
    "    r = requests.get(url, headers=headers, params=params)\n",
    "    \n",
    "    return r.json()"
   ]
  },
  {
   "cell_type": "code",
   "execution_count": 28,
   "metadata": {
    "collapsed": false
   },
   "outputs": [
    {
     "data": {
      "text/plain": [
       "['Neal Froneman']"
      ]
     },
     "execution_count": 28,
     "metadata": {},
     "output_type": "execute_result"
    }
   ],
   "source": [
    "get_people(analyse_text(text))"
   ]
  },
  {
   "cell_type": "code",
   "execution_count": 44,
   "metadata": {
    "collapsed": false
   },
   "outputs": [
    {
     "data": {
      "text/plain": [
       "[('Sibanye Gold Limited', 'SBGL'),\n",
       " ('Stillwater Mining Company', 'SWC'),\n",
       " ('Gold Fields Limited', 'GFI')]"
      ]
     },
     "execution_count": 44,
     "metadata": {},
     "output_type": "execute_result"
    }
   ],
   "source": [
    "[get_symbol(x) for x in get_companies(analyse_text(text))]"
   ]
  },
  {
   "cell_type": "code",
   "execution_count": null,
   "metadata": {
    "collapsed": false
   },
   "outputs": [],
   "source": [
    "get_places(analyse_text(text))"
   ]
  },
  {
   "cell_type": "code",
   "execution_count": null,
   "metadata": {
    "collapsed": true
   },
   "outputs": [],
   "source": []
  },
  {
   "cell_type": "code",
   "execution_count": null,
   "metadata": {
    "collapsed": true
   },
   "outputs": [],
   "source": []
  },
  {
   "cell_type": "markdown",
   "metadata": {},
   "source": [
    "# Find places"
   ]
  },
  {
   "cell_type": "code",
   "execution_count": 30,
   "metadata": {
    "collapsed": false
   },
   "outputs": [],
   "source": [
    "import geocoder"
   ]
  },
  {
   "cell_type": "code",
   "execution_count": 31,
   "metadata": {
    "collapsed": false
   },
   "outputs": [
    {
     "data": {
      "text/plain": [
       "[14, 77]"
      ]
     },
     "execution_count": 31,
     "metadata": {},
     "output_type": "execute_result"
    }
   ],
   "source": [
    "g = geocoder.google('Deccan Plateau')\n",
    "g.latlng"
   ]
  },
  {
   "cell_type": "code",
   "execution_count": 32,
   "metadata": {
    "collapsed": false
   },
   "outputs": [
    {
     "data": {
      "text/plain": [
       "'IN'"
      ]
     },
     "execution_count": 32,
     "metadata": {},
     "output_type": "execute_result"
    }
   ],
   "source": [
    "g.country"
   ]
  },
  {
   "cell_type": "code",
   "execution_count": 33,
   "metadata": {
    "collapsed": false
   },
   "outputs": [
    {
     "data": {
      "text/plain": [
       "9"
      ]
     },
     "execution_count": 33,
     "metadata": {},
     "output_type": "execute_result"
    }
   ],
   "source": [
    "g.confidence"
   ]
  },
  {
   "cell_type": "code",
   "execution_count": 34,
   "metadata": {
    "collapsed": false
   },
   "outputs": [
    {
     "data": {
      "text/plain": [
       "'AP'"
      ]
     },
     "execution_count": 34,
     "metadata": {},
     "output_type": "execute_result"
    }
   ],
   "source": [
    "g.state"
   ]
  },
  {
   "cell_type": "markdown",
   "metadata": {},
   "source": [
    "# Guess ticker symbols from company name"
   ]
  },
  {
   "cell_type": "code",
   "execution_count": 35,
   "metadata": {
    "collapsed": true
   },
   "outputs": [],
   "source": [
    "import requests"
   ]
  },
  {
   "cell_type": "code",
   "execution_count": 36,
   "metadata": {
    "collapsed": true
   },
   "outputs": [],
   "source": [
    "url = \"http://d.yimg.com/aq/autoc\"\n",
    "\n",
    "q = \"rupert resources\"\n",
    "\n",
    "params = {\n",
    "    \"query\": q,\n",
    "    \"region\": \"IN\",\n",
    "    \"lang\": \"en-US\",\n",
    "    \"callback\": \"YAHOO.Finance.SymbolSuggest.ssCallback\"\n",
    "}"
   ]
  },
  {
   "cell_type": "code",
   "execution_count": 37,
   "metadata": {
    "collapsed": true
   },
   "outputs": [],
   "source": [
    "r = requests.get(url, params=params)"
   ]
  },
  {
   "cell_type": "code",
   "execution_count": 38,
   "metadata": {
    "collapsed": false
   },
   "outputs": [],
   "source": [
    "import re\n",
    "\n",
    "result, = re.findall(r\"\\((.*)\\)\", r.text)"
   ]
  },
  {
   "cell_type": "code",
   "execution_count": 46,
   "metadata": {
    "collapsed": false
   },
   "outputs": [],
   "source": [
    "import json\n",
    "\n",
    "best = json.loads(result)['ResultSet']['Result'][0]"
   ]
  },
  {
   "cell_type": "code",
   "execution_count": 40,
   "metadata": {
    "collapsed": false
   },
   "outputs": [
    {
     "data": {
      "text/plain": [
       "{'exch': 'VAN',\n",
       " 'exchDisp': 'CDNX',\n",
       " 'name': 'Rupert Resources Ltd.',\n",
       " 'symbol': 'RUP.V',\n",
       " 'type': 'S',\n",
       " 'typeDisp': 'Equity'}"
      ]
     },
     "execution_count": 40,
     "metadata": {},
     "output_type": "execute_result"
    }
   ],
   "source": [
    "best"
   ]
  },
  {
   "cell_type": "code",
   "execution_count": 41,
   "metadata": {
    "collapsed": true
   },
   "outputs": [],
   "source": [
    "import re\n",
    "import json\n",
    "import requests\n",
    "\n",
    "def get_symbol(q):\n",
    "    url = \"http://d.yimg.com/aq/autoc\"\n",
    "\n",
    "    params = {\n",
    "        \"query\": q,\n",
    "        \"region\": \"IN\",\n",
    "        \"lang\": \"en-US\",\n",
    "        \"callback\": \"YAHOO.Finance.SymbolSuggest.ssCallback\"\n",
    "    }\n",
    "    \n",
    "    r = requests.get(url, params=params)\n",
    "    j, = re.findall(r\"\\((.*)\\)\", r.text)\n",
    "    d = json.loads(j)['ResultSet']['Result'][0]\n",
    "    return d['name'], d['symbol']"
   ]
  },
  {
   "cell_type": "code",
   "execution_count": 42,
   "metadata": {
    "collapsed": false
   },
   "outputs": [
    {
     "data": {
      "text/plain": [
       "('Rupert Resources Ltd.', 'RUP.V')"
      ]
     },
     "execution_count": 42,
     "metadata": {},
     "output_type": "execute_result"
    }
   ],
   "source": [
    "get_symbol('Rupert Resources')"
   ]
  },
  {
   "cell_type": "code",
   "execution_count": 43,
   "metadata": {
    "collapsed": false
   },
   "outputs": [
    {
     "data": {
      "text/plain": [
       "('Sibanye Gold Limited', 'SBGL')"
      ]
     },
     "execution_count": 43,
     "metadata": {},
     "output_type": "execute_result"
    }
   ],
   "source": [
    "get_symbol('Sibanye Gold')"
   ]
  },
  {
   "cell_type": "markdown",
   "metadata": {},
   "source": [
    "# Get quote from ticker"
   ]
  },
  {
   "cell_type": "code",
   "execution_count": 47,
   "metadata": {
    "collapsed": false
   },
   "outputs": [],
   "source": [
    "url = \"https://query.yahooapis.com/v1/public/yql\"\n",
    "\n",
    "symbol = 'RUP.V'\n",
    "\n",
    "params = {\n",
    "    \"q\": 'select * from yahoo.finance.quotes where symbol in (\"{}\")'.format(symbol),\n",
    "    \"format\": \"json\",\n",
    "    \"env\": \"store://datatables.org/alltableswithkeys\"\n",
    "}\n",
    "\n",
    "r = requests.get(url, params=params)"
   ]
  },
  {
   "cell_type": "code",
   "execution_count": 48,
   "metadata": {
    "collapsed": false,
    "scrolled": true
   },
   "outputs": [
    {
     "data": {
      "text/plain": [
       "{'query': {'count': 1,\n",
       "  'created': '2017-03-05T01:13:43Z',\n",
       "  'lang': 'en-US',\n",
       "  'results': {'quote': {'AfterHoursChangeRealtime': None,\n",
       "    'AnnualizedGain': None,\n",
       "    'Ask': '1.33',\n",
       "    'AskRealtime': None,\n",
       "    'AverageDailyVolume': '76224',\n",
       "    'Bid': '1.32',\n",
       "    'BidRealtime': None,\n",
       "    'BookValue': '0.03',\n",
       "    'Change': '+0.02',\n",
       "    'ChangeFromFiftydayMovingAverage': '0.22',\n",
       "    'ChangeFromTwoHundreddayMovingAverage': '0.46',\n",
       "    'ChangeFromYearHigh': '-0.15',\n",
       "    'ChangeFromYearLow': '1.27',\n",
       "    'ChangePercentRealtime': None,\n",
       "    'ChangeRealtime': None,\n",
       "    'Change_PercentChange': '+0.02 - +1.54%',\n",
       "    'ChangeinPercent': '+1.54%',\n",
       "    'Commission': None,\n",
       "    'Currency': 'CAD',\n",
       "    'DaysHigh': '1.35',\n",
       "    'DaysLow': '1.31',\n",
       "    'DaysRange': '1.31 - 1.35',\n",
       "    'DaysRangeRealtime': None,\n",
       "    'DaysValueChange': None,\n",
       "    'DaysValueChangeRealtime': None,\n",
       "    'DividendPayDate': None,\n",
       "    'DividendShare': None,\n",
       "    'DividendYield': None,\n",
       "    'EBITDA': '-1.58M',\n",
       "    'EPSEstimateCurrentYear': None,\n",
       "    'EPSEstimateNextQuarter': '0.00',\n",
       "    'EPSEstimateNextYear': None,\n",
       "    'EarningsShare': '-0.03',\n",
       "    'ErrorIndicationreturnedforsymbolchangedinvalid': None,\n",
       "    'ExDividendDate': None,\n",
       "    'FiftydayMovingAverage': '1.10',\n",
       "    'HighLimit': None,\n",
       "    'HoldingsGain': None,\n",
       "    'HoldingsGainPercent': None,\n",
       "    'HoldingsGainPercentRealtime': None,\n",
       "    'HoldingsGainRealtime': None,\n",
       "    'HoldingsValue': None,\n",
       "    'HoldingsValueRealtime': None,\n",
       "    'LastTradeDate': '3/3/2017',\n",
       "    'LastTradePriceOnly': '1.32',\n",
       "    'LastTradeRealtimeWithTime': None,\n",
       "    'LastTradeTime': '1:12pm',\n",
       "    'LastTradeWithTime': '1:12pm - <b>1.32</b>',\n",
       "    'LowLimit': None,\n",
       "    'MarketCapRealtime': None,\n",
       "    'MarketCapitalization': '131.21M',\n",
       "    'MoreInfo': None,\n",
       "    'Name': 'Rupert Resources Ltd.',\n",
       "    'Notes': None,\n",
       "    'OneyrTargetPrice': None,\n",
       "    'Open': '1.32',\n",
       "    'OrderBookRealtime': None,\n",
       "    'PEGRatio': '0.00',\n",
       "    'PERatio': None,\n",
       "    'PERatioRealtime': None,\n",
       "    'PercebtChangeFromYearHigh': '-10.20%',\n",
       "    'PercentChange': '+1.54%',\n",
       "    'PercentChangeFromFiftydayMovingAverage': '+20.16%',\n",
       "    'PercentChangeFromTwoHundreddayMovingAverage': '+54.31%',\n",
       "    'PercentChangeFromYearLow': '+2300.00%',\n",
       "    'PreviousClose': '1.30',\n",
       "    'PriceBook': '41.94',\n",
       "    'PriceEPSEstimateCurrentYear': None,\n",
       "    'PriceEPSEstimateNextYear': None,\n",
       "    'PricePaid': None,\n",
       "    'PriceSales': None,\n",
       "    'SharesOwned': None,\n",
       "    'ShortRatio': '0.01',\n",
       "    'StockExchange': 'VAN',\n",
       "    'Symbol': 'RUP.V',\n",
       "    'TickerTrend': None,\n",
       "    'TradeDate': None,\n",
       "    'TwoHundreddayMovingAverage': '0.86',\n",
       "    'Volume': '74243',\n",
       "    'YearHigh': '1.47',\n",
       "    'YearLow': '0.05',\n",
       "    'YearRange': '0.05 - 1.47',\n",
       "    'symbol': 'RUP.V'}}}}"
      ]
     },
     "execution_count": 48,
     "metadata": {},
     "output_type": "execute_result"
    }
   ],
   "source": [
    "r.json()"
   ]
  },
  {
   "cell_type": "code",
   "execution_count": 49,
   "metadata": {
    "collapsed": false
   },
   "outputs": [],
   "source": [
    "quote = r.json()['query']['results']['quote']"
   ]
  },
  {
   "cell_type": "code",
   "execution_count": 50,
   "metadata": {
    "collapsed": false
   },
   "outputs": [
    {
     "data": {
      "text/plain": [
       "'CAD'"
      ]
     },
     "execution_count": 50,
     "metadata": {},
     "output_type": "execute_result"
    }
   ],
   "source": [
    "quote['Currency']"
   ]
  },
  {
   "cell_type": "code",
   "execution_count": 51,
   "metadata": {
    "collapsed": false
   },
   "outputs": [
    {
     "data": {
      "text/plain": [
       "'1.32'"
      ]
     },
     "execution_count": 51,
     "metadata": {},
     "output_type": "execute_result"
    }
   ],
   "source": [
    "quote['LastTradePriceOnly']"
   ]
  },
  {
   "cell_type": "code",
   "execution_count": 52,
   "metadata": {
    "collapsed": false
   },
   "outputs": [
    {
     "data": {
      "text/plain": [
       "'131.21M'"
      ]
     },
     "execution_count": 52,
     "metadata": {},
     "output_type": "execute_result"
    }
   ],
   "source": [
    "quote['MarketCapitalization']"
   ]
  },
  {
   "cell_type": "code",
   "execution_count": 53,
   "metadata": {
    "collapsed": true
   },
   "outputs": [],
   "source": [
    "import requests\n",
    "\n",
    "def get_quote(s):\n",
    "    url = \"https://query.yahooapis.com/v1/public/yql\"\n",
    "\n",
    "    params = {\n",
    "        \"q\": 'select * from yahoo.finance.quotes where symbol in (\"{}\")'.format(s),\n",
    "        \"format\": \"json\",\n",
    "        \"env\": \"store://datatables.org/alltableswithkeys\"\n",
    "    }\n",
    "\n",
    "    r = requests.get(url, params=params)\n",
    "    \n",
    "    try:\n",
    "        quote = r.json()['query']['results']['quote']\n",
    "    except:\n",
    "        return None\n",
    "    \n",
    "    return quote['LastTradePriceOnly'], quote['Currency']\n"
   ]
  },
  {
   "cell_type": "code",
   "execution_count": 54,
   "metadata": {
    "collapsed": false
   },
   "outputs": [
    {
     "data": {
      "text/plain": [
       "('7.90', 'USD')"
      ]
     },
     "execution_count": 54,
     "metadata": {},
     "output_type": "execute_result"
    }
   ],
   "source": [
    "get_quote('SBGL')"
   ]
  },
  {
   "cell_type": "markdown",
   "metadata": {},
   "source": [
    "# Try endpoint"
   ]
  },
  {
   "cell_type": "code",
   "execution_count": 229,
   "metadata": {
    "collapsed": false
   },
   "outputs": [],
   "source": [
    "url = \"http://localhost:5000/bar\"\n",
    "\n",
    "headers = {\"Content-Type\": \"application/json\"}\n",
    "\n",
    "data = {\n",
    "    'text': text,\n",
    "    'animal': 'kitten',\n",
    "}\n",
    "\n",
    "r = requests.post(url, headers=headers, data=json.dumps(data))"
   ]
  },
  {
   "cell_type": "code",
   "execution_count": 230,
   "metadata": {
    "collapsed": false,
    "scrolled": true
   },
   "outputs": [
    {
     "data": {
      "text/plain": [
       "'kitten'"
      ]
     },
     "execution_count": 230,
     "metadata": {},
     "output_type": "execute_result"
    }
   ],
   "source": [
    "r.text"
   ]
  },
  {
   "cell_type": "code",
   "execution_count": 231,
   "metadata": {
    "collapsed": false
   },
   "outputs": [
    {
     "ename": "JSONDecodeError",
     "evalue": "Expecting value: line 1 column 1 (char 0)",
     "output_type": "error",
     "traceback": [
      "\u001b[0;31m---------------------------------------------------------------------------\u001b[0m",
      "\u001b[0;31mJSONDecodeError\u001b[0m                           Traceback (most recent call last)",
      "\u001b[0;32m<ipython-input-231-9c78734cbfe1>\u001b[0m in \u001b[0;36m<module>\u001b[0;34m()\u001b[0m\n\u001b[0;32m----> 1\u001b[0;31m \u001b[0mr\u001b[0m\u001b[0;34m.\u001b[0m\u001b[0mjson\u001b[0m\u001b[0;34m(\u001b[0m\u001b[0;34m)\u001b[0m\u001b[0;34m\u001b[0m\u001b[0m\n\u001b[0m",
      "\u001b[0;32m/home/matt/anaconda/envs/python3/lib/python3.5/site-packages/requests/models.py\u001b[0m in \u001b[0;36mjson\u001b[0;34m(self, **kwargs)\u001b[0m\n\u001b[1;32m    810\u001b[0m                     \u001b[0;31m# used.\u001b[0m\u001b[0;34m\u001b[0m\u001b[0;34m\u001b[0m\u001b[0m\n\u001b[1;32m    811\u001b[0m                     \u001b[0;32mpass\u001b[0m\u001b[0;34m\u001b[0m\u001b[0m\n\u001b[0;32m--> 812\u001b[0;31m         \u001b[0;32mreturn\u001b[0m \u001b[0mcomplexjson\u001b[0m\u001b[0;34m.\u001b[0m\u001b[0mloads\u001b[0m\u001b[0;34m(\u001b[0m\u001b[0mself\u001b[0m\u001b[0;34m.\u001b[0m\u001b[0mtext\u001b[0m\u001b[0;34m,\u001b[0m \u001b[0;34m**\u001b[0m\u001b[0mkwargs\u001b[0m\u001b[0;34m)\u001b[0m\u001b[0;34m\u001b[0m\u001b[0m\n\u001b[0m\u001b[1;32m    813\u001b[0m \u001b[0;34m\u001b[0m\u001b[0m\n\u001b[1;32m    814\u001b[0m     \u001b[0;34m@\u001b[0m\u001b[0mproperty\u001b[0m\u001b[0;34m\u001b[0m\u001b[0m\n",
      "\u001b[0;32m/home/matt/anaconda/envs/python3/lib/python3.5/json/__init__.py\u001b[0m in \u001b[0;36mloads\u001b[0;34m(s, encoding, cls, object_hook, parse_float, parse_int, parse_constant, object_pairs_hook, **kw)\u001b[0m\n\u001b[1;32m    317\u001b[0m             \u001b[0mparse_int\u001b[0m \u001b[0;32mis\u001b[0m \u001b[0;32mNone\u001b[0m \u001b[0;32mand\u001b[0m \u001b[0mparse_float\u001b[0m \u001b[0;32mis\u001b[0m \u001b[0;32mNone\u001b[0m \u001b[0;32mand\u001b[0m\u001b[0;34m\u001b[0m\u001b[0m\n\u001b[1;32m    318\u001b[0m             parse_constant is None and object_pairs_hook is None and not kw):\n\u001b[0;32m--> 319\u001b[0;31m         \u001b[0;32mreturn\u001b[0m \u001b[0m_default_decoder\u001b[0m\u001b[0;34m.\u001b[0m\u001b[0mdecode\u001b[0m\u001b[0;34m(\u001b[0m\u001b[0ms\u001b[0m\u001b[0;34m)\u001b[0m\u001b[0;34m\u001b[0m\u001b[0m\n\u001b[0m\u001b[1;32m    320\u001b[0m     \u001b[0;32mif\u001b[0m \u001b[0mcls\u001b[0m \u001b[0;32mis\u001b[0m \u001b[0;32mNone\u001b[0m\u001b[0;34m:\u001b[0m\u001b[0;34m\u001b[0m\u001b[0m\n\u001b[1;32m    321\u001b[0m         \u001b[0mcls\u001b[0m \u001b[0;34m=\u001b[0m \u001b[0mJSONDecoder\u001b[0m\u001b[0;34m\u001b[0m\u001b[0m\n",
      "\u001b[0;32m/home/matt/anaconda/envs/python3/lib/python3.5/json/decoder.py\u001b[0m in \u001b[0;36mdecode\u001b[0;34m(self, s, _w)\u001b[0m\n\u001b[1;32m    337\u001b[0m \u001b[0;34m\u001b[0m\u001b[0m\n\u001b[1;32m    338\u001b[0m         \"\"\"\n\u001b[0;32m--> 339\u001b[0;31m         \u001b[0mobj\u001b[0m\u001b[0;34m,\u001b[0m \u001b[0mend\u001b[0m \u001b[0;34m=\u001b[0m \u001b[0mself\u001b[0m\u001b[0;34m.\u001b[0m\u001b[0mraw_decode\u001b[0m\u001b[0;34m(\u001b[0m\u001b[0ms\u001b[0m\u001b[0;34m,\u001b[0m \u001b[0midx\u001b[0m\u001b[0;34m=\u001b[0m\u001b[0m_w\u001b[0m\u001b[0;34m(\u001b[0m\u001b[0ms\u001b[0m\u001b[0;34m,\u001b[0m \u001b[0;36m0\u001b[0m\u001b[0;34m)\u001b[0m\u001b[0;34m.\u001b[0m\u001b[0mend\u001b[0m\u001b[0;34m(\u001b[0m\u001b[0;34m)\u001b[0m\u001b[0;34m)\u001b[0m\u001b[0;34m\u001b[0m\u001b[0m\n\u001b[0m\u001b[1;32m    340\u001b[0m         \u001b[0mend\u001b[0m \u001b[0;34m=\u001b[0m \u001b[0m_w\u001b[0m\u001b[0;34m(\u001b[0m\u001b[0ms\u001b[0m\u001b[0;34m,\u001b[0m \u001b[0mend\u001b[0m\u001b[0;34m)\u001b[0m\u001b[0;34m.\u001b[0m\u001b[0mend\u001b[0m\u001b[0;34m(\u001b[0m\u001b[0;34m)\u001b[0m\u001b[0;34m\u001b[0m\u001b[0m\n\u001b[1;32m    341\u001b[0m         \u001b[0;32mif\u001b[0m \u001b[0mend\u001b[0m \u001b[0;34m!=\u001b[0m \u001b[0mlen\u001b[0m\u001b[0;34m(\u001b[0m\u001b[0ms\u001b[0m\u001b[0;34m)\u001b[0m\u001b[0;34m:\u001b[0m\u001b[0;34m\u001b[0m\u001b[0m\n",
      "\u001b[0;32m/home/matt/anaconda/envs/python3/lib/python3.5/json/decoder.py\u001b[0m in \u001b[0;36mraw_decode\u001b[0;34m(self, s, idx)\u001b[0m\n\u001b[1;32m    355\u001b[0m             \u001b[0mobj\u001b[0m\u001b[0;34m,\u001b[0m \u001b[0mend\u001b[0m \u001b[0;34m=\u001b[0m \u001b[0mself\u001b[0m\u001b[0;34m.\u001b[0m\u001b[0mscan_once\u001b[0m\u001b[0;34m(\u001b[0m\u001b[0ms\u001b[0m\u001b[0;34m,\u001b[0m \u001b[0midx\u001b[0m\u001b[0;34m)\u001b[0m\u001b[0;34m\u001b[0m\u001b[0m\n\u001b[1;32m    356\u001b[0m         \u001b[0;32mexcept\u001b[0m \u001b[0mStopIteration\u001b[0m \u001b[0;32mas\u001b[0m \u001b[0merr\u001b[0m\u001b[0;34m:\u001b[0m\u001b[0;34m\u001b[0m\u001b[0m\n\u001b[0;32m--> 357\u001b[0;31m             \u001b[0;32mraise\u001b[0m \u001b[0mJSONDecodeError\u001b[0m\u001b[0;34m(\u001b[0m\u001b[0;34m\"Expecting value\"\u001b[0m\u001b[0;34m,\u001b[0m \u001b[0ms\u001b[0m\u001b[0;34m,\u001b[0m \u001b[0merr\u001b[0m\u001b[0;34m.\u001b[0m\u001b[0mvalue\u001b[0m\u001b[0;34m)\u001b[0m \u001b[0;32mfrom\u001b[0m \u001b[0;32mNone\u001b[0m\u001b[0;34m\u001b[0m\u001b[0m\n\u001b[0m\u001b[1;32m    358\u001b[0m         \u001b[0;32mreturn\u001b[0m \u001b[0mobj\u001b[0m\u001b[0;34m,\u001b[0m \u001b[0mend\u001b[0m\u001b[0;34m\u001b[0m\u001b[0m\n",
      "\u001b[0;31mJSONDecodeError\u001b[0m: Expecting value: line 1 column 1 (char 0)"
     ]
    }
   ],
   "source": [
    "r.json()"
   ]
  },
  {
   "cell_type": "code",
   "execution_count": null,
   "metadata": {
    "collapsed": true
   },
   "outputs": [],
   "source": []
  },
  {
   "cell_type": "code",
   "execution_count": null,
   "metadata": {
    "collapsed": true
   },
   "outputs": [],
   "source": []
  }
 ],
 "metadata": {
  "kernelspec": {
   "display_name": "Python [python3]",
   "language": "python",
   "name": "Python [python3]"
  },
  "language_info": {
   "codemirror_mode": {
    "name": "ipython",
    "version": 3
   },
   "file_extension": ".py",
   "mimetype": "text/x-python",
   "name": "python",
   "nbconvert_exporter": "python",
   "pygments_lexer": "ipython3",
   "version": "3.5.2"
  }
 },
 "nbformat": 4,
 "nbformat_minor": 0
}
